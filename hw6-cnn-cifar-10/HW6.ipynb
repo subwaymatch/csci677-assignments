{
 "cells": [
  {
   "cell_type": "markdown",
   "metadata": {},
   "source": [
    "# Homework Assignment 6\n",
    "\n",
    "Programming assignment to create, train, and test a CNN for the task of object classification. \n",
    "\n",
    "In this assignment, I am running Tensorflow on local GPU+CPU using PrettyTensor library for easier implementation. "
   ]
  },
  {
   "cell_type": "markdown",
   "metadata": {},
   "source": [
    "## A brief description of the program\n",
    "\n",
    "This program builds, trains, and classifies image classes for CIFAR-10 dataset. \n",
    "\n",
    "It begins by using the parameters specified in HW6, and was tuned to improve accuracy. \n",
    "\n",
    "For intermediate results, please see the notebook contents below. \n",
    "\n",
    "\n",
    "## Summary and discussion of the results\n",
    "\n",
    "The program achieves a 77.3% accuracy after ~130,000 iterations. Please see below for details. \n",
    "\n",
    "### Accuracy on test set\n",
    "77.3% (7733 / 10000)\n",
    "\n",
    "### Accuracy by each class\n",
    "```\n",
    "airplane 81.6%\n",
    "automobile 90.1%\n",
    "bird 68.4%\n",
    "cat 43.7%\n",
    "deer 70.8%\n",
    "dog 76.1%\n",
    "frog 90.6%\n",
    "horse 81.1%\n",
    "ship 81.8%\n",
    "truck 89.1%\n",
    "```\n",
    "\n",
    "### Confusion Matrix\n",
    "```\n",
    "[816  21  42  15   7   7  16  10  31  35] (0) airplane\n",
    "[  8 901   4   2   1   2  13   0   8  61] (1) automobile\n",
    "[ 51   9 684  40  36  53  83  34   6   4] (2) bird\n",
    "[ 17  12  38 437  53 238 141  29   9  26] (3) cat\n",
    "[ 22   4  65  23 708  35  57  74   7   5] (4) deer\n",
    "[  6   7  35  64  31 761  44  38   3  11] (5) dog\n",
    "[  5   7  25  13  18  17 906   3   2   4] (6) frog\n",
    "[ 13   3  21  19  38  57  17 811   2  19] (7) horse\n",
    "[ 78  29   7   7   1   3  11   2 818  44] (8) ship\n",
    "[ 18  46   6   7   2   2  11   7  10 891] (9) truck\n",
    " (0) (1) (2) (3) (4) (5) (6) (7) (8) (9)\n",
    "(10, 10)\n",
    "```\n",
    "\n",
    "### Adjusting the number of layer 1 and 2\n",
    "\n",
    "With 6 convolutional filters in the first layer and 16 convolution filters in the second layer, I was able to get a ~70% accuracy on the test data set. To improve the accuracy, I've increased the number of filters (depth) in the first layer from 6 to 32, and depth in the second layer from 16 to 64. \n",
    "\n",
    "\n",
    "### Cropping to 24x24\n",
    "The homework mentions cropping the original images to 24x24 dimension from left-right top-bottom corners. Instead of using the corners, TensorFlow's `random_crop` function was used to randomly crop the images. This provides better randomization of the cropping process. \n",
    "\n",
    "### Additional pre-processing of the images\n",
    "Hue, saturation, contrast were randomly adjusted with TensorFlow's built-in functions. \n",
    "\n",
    "### Normalize pixel values\n",
    "Instead of subtracting the mean of the images, the pixel values were normalized between (0, 1). \n",
    "\n",
    "### Rank-5 was applicable due to small number of classes\n",
    "Rank-5 was able to improve the accuracy by a very large margin (using `tf.nn.in_top_k()`), the number of classes were too small to utilize this method. Note that this would be applicable when the number of classes are much larger (at least a 1000). "
   ]
  },
  {
   "cell_type": "code",
   "execution_count": 1,
   "metadata": {
    "collapsed": true
   },
   "outputs": [],
   "source": [
    "%matplotlib inline\n",
    "import matplotlib.pyplot as plt\n",
    "import tensorflow as tf\n",
    "import numpy as np\n",
    "from sklearn.metrics import confusion_matrix\n",
    "import time\n",
    "from datetime import timedelta\n",
    "import math\n",
    "import os\n",
    "\n",
    "# Use PrettyTensor to simplify Neural Network construction\n",
    "import prettytensor as pt"
   ]
  },
  {
   "cell_type": "code",
   "execution_count": 2,
   "metadata": {},
   "outputs": [
    {
     "data": {
      "text/plain": [
       "'1.4.0'"
      ]
     },
     "execution_count": 2,
     "metadata": {},
     "output_type": "execute_result"
    }
   ],
   "source": [
    "tf.__version__"
   ]
  },
  {
   "cell_type": "code",
   "execution_count": 3,
   "metadata": {},
   "outputs": [
    {
     "data": {
      "text/plain": [
       "'0.7.4'"
      ]
     },
     "execution_count": 3,
     "metadata": {},
     "output_type": "execute_result"
    }
   ],
   "source": [
    "pt.__version__"
   ]
  },
  {
   "cell_type": "markdown",
   "metadata": {},
   "source": [
    "## Homework specifications\n",
    "\n",
    "Below are homework 6 specifications from Dr. Nevatia. \n",
    "\n",
    "I have initially tried 100,000 iterations with the exact specifications listed in the assignment, but was only able to get ~70% accuracy. \n",
    "\n",
    "Initial run with given HW6 default parameters\n",
    "```\n",
    "=====================================================\n",
    "Global step:  100000, Training Batch Accuracy:  71.1%\n",
    "Saved checkpoint\n",
    "Duration: 3:20:09\n",
    "=====================================================\n",
    "```\n",
    "\n",
    "Results on test set with HW6 default parameters\n",
    "```\n",
    "=====================================================\n",
    "Accuracy on test set: 70.2% (7022 / 10000)\n",
    "=====================================================\n",
    "```\n",
    "\n",
    "From the lectures, it was suggested that the smaller kernels and "
   ]
  },
  {
   "cell_type": "code",
   "execution_count": 4,
   "metadata": {
    "collapsed": true
   },
   "outputs": [],
   "source": [
    "# HW6 specifications\n",
    "conv1_kernel = 5                 # originally 5\n",
    "conv1_depth = 32                 # originall 6\n",
    "conv1_stride = 1                 # originally 1\n",
    "maxpool1_kernel = 2              # originally 2\n",
    "conv2_kernel = 5                 # originally 5\n",
    "conv2_depth = 64                 # originall 16\n",
    "conv2_stride = 1                 # originally 2\n",
    "maxpool2_kernel = 2              # originally 2\n",
    "fc1_dimension = 120              # originally 120\n",
    "fc2_dimension = 84               # originally 84\n",
    "train_batch_size = 64            # mini batch size of 64 as recommended\n",
    "learning_rate = 0.001            # learning rate\n",
    "activation_function = tf.nn.relu # All activation units should be ReLU\n",
    "img_size_cropped = 24            # will be used to randomly crop images to 24x24"
   ]
  },
  {
   "cell_type": "markdown",
   "metadata": {},
   "source": [
    "## Load Cifar-10 Data\n",
    "\n",
    "Let's first load Cifar-10 data using a pre-coded script"
   ]
  },
  {
   "cell_type": "code",
   "execution_count": 5,
   "metadata": {
    "collapsed": true
   },
   "outputs": [],
   "source": [
    "import cifar10"
   ]
  },
  {
   "cell_type": "markdown",
   "metadata": {},
   "source": [
    "The CIFAR-10 dataset will be downloaded with the code below. "
   ]
  },
  {
   "cell_type": "code",
   "execution_count": 6,
   "metadata": {
    "scrolled": true
   },
   "outputs": [
    {
     "name": "stdout",
     "output_type": "stream",
     "text": [
      "Data has apparently already been downloaded and unpacked.\n"
     ]
    }
   ],
   "source": [
    "cifar10.maybe_download_and_extract()"
   ]
  },
  {
   "cell_type": "markdown",
   "metadata": {},
   "source": [
    "Load the class names. "
   ]
  },
  {
   "cell_type": "code",
   "execution_count": 7,
   "metadata": {},
   "outputs": [
    {
     "name": "stdout",
     "output_type": "stream",
     "text": [
      "Loading data: data/CIFAR-10/cifar-10-batches-py/batches.meta\n"
     ]
    },
    {
     "data": {
      "text/plain": [
       "['airplane',\n",
       " 'automobile',\n",
       " 'bird',\n",
       " 'cat',\n",
       " 'deer',\n",
       " 'dog',\n",
       " 'frog',\n",
       " 'horse',\n",
       " 'ship',\n",
       " 'truck']"
      ]
     },
     "execution_count": 7,
     "metadata": {},
     "output_type": "execute_result"
    }
   ],
   "source": [
    "class_names = cifar10.load_class_names()\n",
    "class_names"
   ]
  },
  {
   "cell_type": "markdown",
   "metadata": {},
   "source": [
    "Load the training-set. This returns the images, the class numbers (as integers), and the class numbers as One_Hot encoded arrays called labels. "
   ]
  },
  {
   "cell_type": "code",
   "execution_count": 8,
   "metadata": {},
   "outputs": [
    {
     "name": "stdout",
     "output_type": "stream",
     "text": [
      "Loading data: data/CIFAR-10/cifar-10-batches-py/data_batch_1\n",
      "Loading data: data/CIFAR-10/cifar-10-batches-py/data_batch_2\n",
      "Loading data: data/CIFAR-10/cifar-10-batches-py/data_batch_3\n",
      "Loading data: data/CIFAR-10/cifar-10-batches-py/data_batch_4\n",
      "Loading data: data/CIFAR-10/cifar-10-batches-py/data_batch_5\n"
     ]
    }
   ],
   "source": [
    "images_train, cls_train, labels_train = cifar10.load_training_data()"
   ]
  },
  {
   "cell_type": "markdown",
   "metadata": {},
   "source": [
    "Let's load the test-set (similar to loading the training set). "
   ]
  },
  {
   "cell_type": "code",
   "execution_count": 9,
   "metadata": {},
   "outputs": [
    {
     "name": "stdout",
     "output_type": "stream",
     "text": [
      "Loading data: data/CIFAR-10/cifar-10-batches-py/test_batch\n"
     ]
    }
   ],
   "source": [
    "images_test, cls_test, labels_test = cifar10.load_test_data()"
   ]
  },
  {
   "cell_type": "markdown",
   "metadata": {},
   "source": [
    "The CIFAR-10 dataset now has been loaded with 60,000 images and labels. \n",
    "Let's check if we have the correct number of training and test images. "
   ]
  },
  {
   "cell_type": "code",
   "execution_count": 10,
   "metadata": {},
   "outputs": [
    {
     "name": "stdout",
     "output_type": "stream",
     "text": [
      "Training set: 50000 images, Test set: 10000 images\n"
     ]
    }
   ],
   "source": [
    "print(\"Training set: \" + str(len(images_train)) + \" images, Test set: \" + str(len(images_test)) + \" images\")"
   ]
  },
  {
   "cell_type": "markdown",
   "metadata": {},
   "source": [
    "### Data Dimensions\n",
    "\n",
    "These are helper variables that will be later used in the Tensorflow Code. "
   ]
  },
  {
   "cell_type": "code",
   "execution_count": 11,
   "metadata": {
    "collapsed": true
   },
   "outputs": [],
   "source": [
    "from cifar10 import img_size, num_channels, num_classes"
   ]
  },
  {
   "cell_type": "markdown",
   "metadata": {},
   "source": [
    "## Plot Images"
   ]
  },
  {
   "cell_type": "markdown",
   "metadata": {},
   "source": [
    "Just a helper function to plot 9 images with matplotlib. "
   ]
  },
  {
   "cell_type": "code",
   "execution_count": 12,
   "metadata": {
    "collapsed": true
   },
   "outputs": [],
   "source": [
    "def plot_images(images, cls_true, cls_pred=None, smooth=True):\n",
    "    \n",
    "    assert len(images) == len(cls_true) == 9\n",
    "    \n",
    "    # Create figure with sub-plots\n",
    "    fig, axes = plt.subplots(3, 3)\n",
    "    \n",
    "    # Adjust vertical spacing if we need to print ensemble and best-net\n",
    "    if cls_pred is None:\n",
    "        hspace = 0.3\n",
    "    else:\n",
    "        hspace = 0.6\n",
    "    \n",
    "    fig.subplots_adjust(hspace=hspace, wspace=0.3)\n",
    "    \n",
    "    for i, ax in enumerate(axes.flat):\n",
    "        # Interpolation type\n",
    "        if smooth: \n",
    "            interpolation = 'spline16'\n",
    "        else: \n",
    "            interpolation = 'nearest'\n",
    "            \n",
    "        # Plot image\n",
    "        ax.imshow(images[i, :, :, :], \n",
    "                interpolation=interpolation)\n",
    "        \n",
    "        # Name of the true class\n",
    "        cls_true_name = class_names[cls_true[i]]\n",
    "        \n",
    "        # Show true and predicted classes\n",
    "        if cls_pred is None:\n",
    "            xlabel = \"True: {0}\".format(cls_true_name)\n",
    "        else:\n",
    "            # Name of the predicted class\n",
    "            xlabel = \"True: {0}\\nPred: {1}\".foramt(cls_true_name, cls_pred_name)\n",
    "           \n",
    "        # Show the classes as the label on the x-axis\n",
    "        ax.set_xlabel(xlabel)\n",
    "        \n",
    "        # Remove ticks from the plot\n",
    "        ax.set_xticks([])\n",
    "        ax.set_yticks([])\n",
    "        \n",
    "    # show plot\n",
    "    plt.show()"
   ]
  },
  {
   "cell_type": "markdown",
   "metadata": {},
   "source": [
    "#### Check if plotting images work"
   ]
  },
  {
   "cell_type": "code",
   "execution_count": 13,
   "metadata": {},
   "outputs": [
    {
     "data": {
      "image/png": "[encoded data removed]",
      "text/plain": [
       "<matplotlib.figure.Figure at 0x29c5d940>"
      ]
     },
     "metadata": {},
     "output_type": "display_data"
    }
   ],
   "source": [
    "# Get the first images from the test set\n",
    "images = images_test[0:9]\n",
    "\n",
    "# Get the true classes for these images\n",
    "cls_true = cls_test[0:9]\n",
    "\n",
    "# Plot the images and labels using our helper-function above\n",
    "plot_images(images=images, cls_true=cls_true, smooth=False)"
   ]
  },
  {
   "cell_type": "markdown",
   "metadata": {},
   "source": [
    "## Create placeholder variables for images, labels, and class numbers"
   ]
  },
  {
   "cell_type": "code",
   "execution_count": 14,
   "metadata": {
    "collapsed": true
   },
   "outputs": [],
   "source": [
    "x = tf.placeholder(tf.float32, shape=[None, img_size, img_size, num_channels], name='x')\n",
    "y_true = tf.placeholder(tf.float32, shape=[None, num_classes], name='y_true')\n",
    "y_true_cls = tf.argmax(y_true, axis=1)"
   ]
  },
  {
   "cell_type": "markdown",
   "metadata": {},
   "source": [
    "## Image pre-processing functions\n",
    "\n",
    "- Subtract mean of the images\n",
    "- "
   ]
  },
  {
   "cell_type": "code",
   "execution_count": 15,
   "metadata": {
    "collapsed": true
   },
   "outputs": [],
   "source": [
    "def pre_process_image(image, training):\n",
    "    # Take a single image as an input, \n",
    "    # and a boolean whether to build the training or testing graph\n",
    "    \n",
    "    if training:\n",
    "        image = tf.random_crop(image, size=[img_size_cropped, img_size_cropped, num_channels]) \n",
    "        \n",
    "        # Randomly flip the image horizontally\n",
    "        image = tf.image.random_flip_left_right(image)\n",
    "        \n",
    "        # These parts are optional\n",
    "        image = tf.image.random_hue(image, max_delta=0.05)\n",
    "        image = tf.image.random_contrast(image, lower=0.3, upper=1.0)\n",
    "        image = tf.image.random_brightness(image, max_delta=0.2)\n",
    "        image = tf.image.random_saturation(image, lower=0.0, upper=2.0)\n",
    "        \n",
    "        # Prevent pixel underflow/overflow\n",
    "        image = tf.minimum(image, 1.0)\n",
    "        image = tf.maximum(image, 0.0)\n",
    "    \n",
    "    else:\n",
    "        image = tf.image.resize_image_with_crop_or_pad(image, \n",
    "                                                        target_height=img_size_cropped, \n",
    "                                                       target_width=img_size_cropped)\n",
    "        \n",
    "    return image"
   ]
  },
  {
   "cell_type": "markdown",
   "metadata": {},
   "source": [
    "Map to lambda function for all images"
   ]
  },
  {
   "cell_type": "code",
   "execution_count": 16,
   "metadata": {
    "collapsed": true
   },
   "outputs": [],
   "source": [
    "def pre_process(images, training):\n",
    "    images = tf.map_fn(lambda image : pre_process_image(image, training), images)\n",
    "    \n",
    "    return images"
   ]
  },
  {
   "cell_type": "markdown",
   "metadata": {},
   "source": [
    "To plot the distorted images, we create the pre-processing graph for TensorFlow, so we may execute it later."
   ]
  },
  {
   "cell_type": "code",
   "execution_count": 17,
   "metadata": {
    "collapsed": true
   },
   "outputs": [],
   "source": [
    "distorted_images = pre_process(images=x, training=True)"
   ]
  },
  {
   "cell_type": "markdown",
   "metadata": {},
   "source": [
    "## Main neural network"
   ]
  },
  {
   "cell_type": "code",
   "execution_count": 18,
   "metadata": {
    "collapsed": true
   },
   "outputs": [],
   "source": [
    "def main_network(images, training):\n",
    "    # Wrap the input images as a Pretty Tensor object\n",
    "    x_pretty = pt.wrap(images)\n",
    "    \n",
    "    # Pretty Tensor uses special numbers to distinguish between the training and testing phases\n",
    "    if training:\n",
    "        phase = pt.Phase.train\n",
    "    else:\n",
    "        phase = pt.Phase.infer\n",
    "        \n",
    "    # Create our CNN\n",
    "    with pt.defaults_scope(activation_fn=activation_function, phase=phase):\n",
    "        y_pred, loss = x_pretty\\\n",
    "            .conv2d(kernel=conv1_kernel, depth=conv1_depth, stride=(conv1_stride,conv1_stride), name='layer_conv1')\\\n",
    "            .max_pool(kernel=maxpool1_kernel, stride=maxpool1_kernel)\\\n",
    "            .conv2d(kernel=conv2_kernel, depth=conv2_depth, stride=(conv2_stride,conv2_stride), name='layer_conv2')\\\n",
    "            .max_pool(kernel=maxpool2_kernel, stride=maxpool2_kernel)\\\n",
    "            .flatten()\\\n",
    "            .fully_connected(size=fc1_dimension, name='layer_fc1')\\\n",
    "            .fully_connected(size=fc2_dimension, name='layer_fc2')\\\n",
    "            .softmax_classifier(num_classes=num_classes, labels=y_true)\n",
    "            \n",
    "    return y_pred, loss"
   ]
  },
  {
   "cell_type": "markdown",
   "metadata": {},
   "source": [
    "## Helper function to create a neural network"
   ]
  },
  {
   "cell_type": "code",
   "execution_count": 19,
   "metadata": {
    "collapsed": true
   },
   "outputs": [],
   "source": [
    "def create_network(training):\n",
    "    with tf.variable_scope('network', reuse=not training):\n",
    "        images = x\n",
    "        \n",
    "        images = pre_process(images=images, training=training)\n",
    "        \n",
    "        # Create a TensorFlow graph for the main network\n",
    "        y_pred, loss = main_network(images=images, training=training)\n",
    "        \n",
    "    return y_pred, loss"
   ]
  },
  {
   "cell_type": "markdown",
   "metadata": {},
   "source": [
    "## Neural network for training phase\n",
    "\n",
    "Let's create a tensorflow variable that keeps track of the number of optimization iterations. This is a TensorFlow variable that will be saved at different checkpoints."
   ]
  },
  {
   "cell_type": "code",
   "execution_count": 20,
   "metadata": {
    "collapsed": true
   },
   "outputs": [],
   "source": [
    "global_step = tf.Variable(initial_value=0, name='global_step', trainable=False)"
   ]
  },
  {
   "attachments": {},
   "cell_type": "markdown",
   "metadata": {},
   "source": [
    "Let's create the neural network for training. "
   ]
  },
  {
   "cell_type": "code",
   "execution_count": 21,
   "metadata": {},
   "outputs": [],
   "source": [
    "_, loss = create_network(training=True)"
   ]
  },
  {
   "cell_type": "markdown",
   "metadata": {},
   "source": [
    "Let's create an ADAM optimizer with a learning rate of 0.001. "
   ]
  },
  {
   "cell_type": "code",
   "execution_count": 22,
   "metadata": {},
   "outputs": [],
   "source": [
    "optimizer = tf.train.AdamOptimizer(learning_rate=learning_rate).minimize(loss, global_step=global_step)"
   ]
  },
  {
   "cell_type": "markdown",
   "metadata": {},
   "source": [
    "## Neural network for test phase\n",
    "\n",
    "Let's create the neural network for the test-phase. "
   ]
  },
  {
   "cell_type": "code",
   "execution_count": 23,
   "metadata": {},
   "outputs": [],
   "source": [
    "y_pred, _ = create_network(training=False)"
   ]
  },
  {
   "cell_type": "markdown",
   "metadata": {},
   "source": [
    "Pick the predicted class with argmax"
   ]
  },
  {
   "cell_type": "code",
   "execution_count": 24,
   "metadata": {},
   "outputs": [],
   "source": [
    "y_pred_cls = tf.argmax(y_pred, axis=1)"
   ]
  },
  {
   "cell_type": "markdown",
   "metadata": {},
   "source": [
    "Create a vector of correct/incorrect classification results"
   ]
  },
  {
   "cell_type": "code",
   "execution_count": 25,
   "metadata": {
    "collapsed": true
   },
   "outputs": [],
   "source": [
    "correct_prediction = tf.equal(y_pred_cls, y_true_cls)"
   ]
  },
  {
   "cell_type": "markdown",
   "metadata": {},
   "source": [
    "Calculate accuracy by typecasting booleans to floats, and taking average of the numbers. "
   ]
  },
  {
   "cell_type": "code",
   "execution_count": 26,
   "metadata": {},
   "outputs": [],
   "source": [
    "accuracy = tf.reduce_mean(tf.cast(correct_prediction, tf.float32))"
   ]
  },
  {
   "cell_type": "markdown",
   "metadata": {},
   "source": [
    "## Save variables\n",
    "\n",
    "Save the tensorflow train/graph variables. "
   ]
  },
  {
   "cell_type": "code",
   "execution_count": 27,
   "metadata": {
    "collapsed": true
   },
   "outputs": [],
   "source": [
    "saver = tf.train.Saver()"
   ]
  },
  {
   "cell_type": "markdown",
   "metadata": {},
   "source": [
    "## Run TensorFlow session"
   ]
  },
  {
   "cell_type": "code",
   "execution_count": 28,
   "metadata": {
    "collapsed": true
   },
   "outputs": [],
   "source": [
    "session = tf.Session()"
   ]
  },
  {
   "cell_type": "markdown",
   "metadata": {},
   "source": [
    "### Saving session variables into checkpoints"
   ]
  },
  {
   "cell_type": "code",
   "execution_count": 29,
   "metadata": {},
   "outputs": [],
   "source": [
    "save_dir = 'checkpoints/'\n",
    "\n",
    "if not os.path.exists(save_dir):\n",
    "    os.makedirs(save_dir)\n",
    "    \n",
    "save_path = os.path.join(save_dir, 'cifar10_cnn')"
   ]
  },
  {
   "cell_type": "markdown",
   "metadata": {},
   "source": [
    "Try restoring last checkpoint"
   ]
  },
  {
   "cell_type": "code",
   "execution_count": 30,
   "metadata": {},
   "outputs": [
    {
     "name": "stdout",
     "output_type": "stream",
     "text": [
      "Trying to restore last checkpoint...\n",
      "No checkpoint to restore from, will initialize variables instead\n"
     ]
    }
   ],
   "source": [
    "try:\n",
    "    print('Trying to restore last checkpoint...')\n",
    "    \n",
    "    # Find the latest checkpoint\n",
    "    last_check_path = tf.train.latest_checkpoint(checkpoint_dir=save_dir)\n",
    "    \n",
    "    # Try and loading the data\n",
    "    saver.restore(session, save_path=last_check_path)\n",
    "    \n",
    "    # Print results if successful\n",
    "    print('Restored checkpoint from ', last_check_path)\n",
    "\n",
    "except:\n",
    "    print('No checkpoint to restore from, will initialize variables instead')\n",
    "    session.run(tf.global_variables_initializer())"
   ]
  },
  {
   "cell_type": "markdown",
   "metadata": {},
   "source": [
    "## Get random mini batch for training"
   ]
  },
  {
   "cell_type": "code",
   "execution_count": 31,
   "metadata": {
    "collapsed": true
   },
   "outputs": [],
   "source": [
    "def random_batch():\n",
    "    num_images = len(images_train)\n",
    "    \n",
    "    # Create a random index\n",
    "    idx = np.random.choice(num_images, \n",
    "                           size=train_batch_size, \n",
    "                          replace=False)\n",
    "    \n",
    "    # Use the random index to select random batch\n",
    "    x_batch = images_train[idx, :, :, :]\n",
    "    y_batch = labels_train[idx, :]\n",
    "    \n",
    "    return x_batch, y_batch"
   ]
  },
  {
   "cell_type": "markdown",
   "metadata": {},
   "source": [
    "## Perform optimization"
   ]
  },
  {
   "cell_type": "code",
   "execution_count": 32,
   "metadata": {
    "collapsed": true
   },
   "outputs": [],
   "source": [
    "def optimize(num_iterations):\n",
    "    start_time = time.time()\n",
    "    \n",
    "    for i in range(num_iterations): \n",
    "        # Get a random batch\n",
    "        x_batch, y_true_batch = random_batch()\n",
    "        \n",
    "        # Convert to a dict to pass to TensorFlow\n",
    "        feed_dict_train = {\n",
    "            x: x_batch, \n",
    "            y_true: y_true_batch\n",
    "        }\n",
    "        \n",
    "        # Run the optimizer using this batch\n",
    "        # Retrieve the global step counter\n",
    "        i_global, _ = session.run([global_step, optimizer],\n",
    "                                 feed_dict=feed_dict_train)\n",
    "        \n",
    "        # Print status to screen every 100 iterations and last\n",
    "        if (i_global % 100 == 0) or (i == num_iterations - 1):\n",
    "            # Calculate the accuracy on the training-batch\n",
    "            batch_accuracy = session.run(accuracy,\n",
    "                                        feed_dict=feed_dict_train)\n",
    "            \n",
    "            # Print status\n",
    "            msg = 'Global step: {0:>6}, Training Batch Accuracy: {1:>6.1%}'\n",
    "            print(msg.format(i_global, batch_accuracy))\n",
    "            \n",
    "        # Save a checkpoint every 1000 iterations and last\n",
    "        if (i_global % 1000 == 0) or (i == num_iterations - 1):\n",
    "            saver.save(session,\n",
    "                      save_path=save_path,\n",
    "                      global_step=global_step)\n",
    "            \n",
    "            print(\"Saved checkpoint\")\n",
    "            \n",
    "    end_time = time.time()\n",
    "    \n",
    "    time_diff = end_time - start_time\n",
    "    \n",
    "    print(\"Duration: \" + str(timedelta(seconds=int(round(time_diff)))))"
   ]
  },
  {
   "cell_type": "markdown",
   "metadata": {},
   "source": [
    "## Calculate classificiations\n",
    "\n",
    "Calculate the predicted classes of images and return a boolean array whether the classification of each imaage is correct. "
   ]
  },
  {
   "cell_type": "code",
   "execution_count": 49,
   "metadata": {},
   "outputs": [],
   "source": [
    "# Split to batches\n",
    "batch_size = 256\n",
    "\n",
    "def predict_cls(images, labels, cls_true):\n",
    "    # Number of images\n",
    "    num_images = len(images)\n",
    "    \n",
    "    cls_pred = np.zeros(shape=num_images, dtype=np.int)\n",
    "    \n",
    "    start_index = 0\n",
    "    \n",
    "    while start_index < num_images:\n",
    "        end_index = min(start_index + batch_size, num_images)\n",
    "        \n",
    "        feed_dict = {\n",
    "            x: images[start_index:end_index, :], \n",
    "            y_true: labels[start_index:end_index, :]\n",
    "        }\n",
    "        \n",
    "        cls_pred[start_index:end_index] = session.run(y_pred_cls, feed_dict=feed_dict)\n",
    "        \n",
    "        # Set the start index for the next batch to the end index of the current batch\n",
    "        start_index = end_index\n",
    "        \n",
    "    # A boolean array of whether each image is correctly classified\n",
    "    correct = (cls_true == cls_pred)\n",
    "    \n",
    "    # in case using a rank-5\n",
    "    # correct = tf.nn.in_top_k(cls_pred, range(10), 5)\n",
    "        \n",
    "    return correct, cls_pred"
   ]
  },
  {
   "cell_type": "markdown",
   "metadata": {},
   "source": [
    "Calculate the predicted classes of test set. \n",
    "We won't be using batches here. "
   ]
  },
  {
   "cell_type": "code",
   "execution_count": 34,
   "metadata": {
    "collapsed": true
   },
   "outputs": [],
   "source": [
    "def predict_cls_test():\n",
    "    return predict_cls(images=images_test,\n",
    "                      labels=labels_test,\n",
    "                      cls_true=cls_test)"
   ]
  },
  {
   "cell_type": "markdown",
   "metadata": {},
   "source": [
    "## Classification accuracy and confusion matrix"
   ]
  },
  {
   "cell_type": "code",
   "execution_count": 35,
   "metadata": {
    "collapsed": true
   },
   "outputs": [],
   "source": [
    "def classification_accuracy(correct):\n",
    "    # Accuracy and number of accurate scores\n",
    "    return correct.mean(), correct.sum()"
   ]
  },
  {
   "cell_type": "code",
   "execution_count": 50,
   "metadata": {
    "collapsed": true
   },
   "outputs": [],
   "source": [
    "def plot_confusion_matrix(cls_pred):\n",
    "    cm = confusion_matrix(y_true=cls_test, \n",
    "                         y_pred=cls_pred)\n",
    "    \n",
    "    for i in range(num_classes):\n",
    "        class_name = \"({}) {}\".format(i, class_names[i])\n",
    "        print(cm[i, :], class_name)\n",
    "    \n",
    "    # Print the class-numbers for easy reference\n",
    "    class_numbers = [\" ({0})\".format(i) for i in range(num_classes)]\n",
    "    print(\"\".join(class_numbers))\n",
    "    \n",
    "    return cm"
   ]
  },
  {
   "cell_type": "code",
   "execution_count": 90,
   "metadata": {},
   "outputs": [],
   "source": [
    "def print_test_accuracy():\n",
    "    correct, cls_pred = predict_cls_test()\n",
    "    \n",
    "    acc, num_correct = classification_accuracy(correct)\n",
    "    \n",
    "    num_images = len(correct)\n",
    "    \n",
    "    msg = 'Accuracy on test set: {0:.1%} ({1} / {2})'\n",
    "    print(msg.format(acc, num_correct, num_images))\n",
    "    \n",
    "    print(\"Confusion Matrix:\")\n",
    "    cm = plot_confusion_matrix(cls_pred=cls_pred)\n",
    "    \n",
    "    print(cm.shape)\n",
    "    \n",
    "    index = 0 \n",
    "    \n",
    "    print(\"\")\n",
    "    print(\"Accuracy by each class\")\n",
    "    for row in cm:\n",
    "        print('{} {:.1%}'.format(class_names[index], row[index] / 1000))\n",
    "        \n",
    "        index += 1"
   ]
  },
  {
   "cell_type": "markdown",
   "metadata": {},
   "source": [
    "## Start!"
   ]
  },
  {
   "cell_type": "code",
   "execution_count": 44,
   "metadata": {},
   "outputs": [
    {
     "name": "stdout",
     "output_type": "stream",
     "text": [
      "Global step: 131100, Training Batch Accuracy:  85.9%\n",
      "Global step: 131188, Training Batch Accuracy:  81.2%\n",
      "Saved checkpoint\n",
      "Duration: 0:00:10\n"
     ]
    }
   ],
   "source": [
    "# num_iterations refers to the number of ADDITIONAL iterations to run (not from 0)\n",
    "optimize(num_iterations=100)"
   ]
  },
  {
   "cell_type": "markdown",
   "metadata": {},
   "source": [
    "## Results"
   ]
  },
  {
   "cell_type": "code",
   "execution_count": 91,
   "metadata": {},
   "outputs": [
    {
     "name": "stdout",
     "output_type": "stream",
     "text": [
      "Accuracy on test set: 77.3% (7733 / 10000)\n",
      "Confusion Matrix:\n",
      "[816  21  42  15   7   7  16  10  31  35] (0) airplane\n",
      "[  8 901   4   2   1   2  13   0   8  61] (1) automobile\n",
      "[ 51   9 684  40  36  53  83  34   6   4] (2) bird\n",
      "[ 17  12  38 437  53 238 141  29   9  26] (3) cat\n",
      "[ 22   4  65  23 708  35  57  74   7   5] (4) deer\n",
      "[  6   7  35  64  31 761  44  38   3  11] (5) dog\n",
      "[  5   7  25  13  18  17 906   3   2   4] (6) frog\n",
      "[ 13   3  21  19  38  57  17 811   2  19] (7) horse\n",
      "[ 78  29   7   7   1   3  11   2 818  44] (8) ship\n",
      "[ 18  46   6   7   2   2  11   7  10 891] (9) truck\n",
      " (0) (1) (2) (3) (4) (5) (6) (7) (8) (9)\n",
      "(10, 10)\n",
      "\n",
      "Accuracy by each class\n",
      "airplane 81.6%\n",
      "automobile 90.1%\n",
      "bird 68.4%\n",
      "cat 43.7%\n",
      "deer 70.8%\n",
      "dog 76.1%\n",
      "frog 90.6%\n",
      "horse 81.1%\n",
      "ship 81.8%\n",
      "truck 89.1%\n"
     ]
    }
   ],
   "source": [
    "print_test_accuracy()"
   ]
  }
 ],
 "metadata": {
  "kernelspec": {
   "display_name": "Python 3",
   "language": "python",
   "name": "python3"
  },
  "language_info": {
   "codemirror_mode": {
    "name": "ipython",
    "version": 3
   },
   "file_extension": ".py",
   "mimetype": "text/x-python",
   "name": "python",
   "nbconvert_exporter": "python",
   "pygments_lexer": "ipython3",
   "version": "3.5.4"
  }
 },
 "nbformat": 4,
 "nbformat_minor": 2
}
